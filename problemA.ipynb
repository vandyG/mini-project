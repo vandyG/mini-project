{
 "cells": [
  {
   "cell_type": "markdown",
   "id": "77581b31-bfb1-41e5-8aa6-6a32717d41aa",
   "metadata": {},
   "source": [
    "# String /input statement /print out\n",
    "1. Print a welcome message to the user.\n",
    "2. Take a string (message) and a letter from the user.\n",
    "3. Count how many times this letter occurred.\n",
    "4. Calculate the percentage of the letter in the message.\n",
    "5. Print the outputs to the user."
   ]
  },
  {
   "cell_type": "code",
   "execution_count": 5,
   "id": "03d8b273-f22e-4a18-ab20-1c7bfc8160ce",
   "metadata": {},
   "outputs": [],
   "source": [
    "# %%\n",
    "\n",
    "import argparse"
   ]
  },
  {
   "cell_type": "code",
   "execution_count": 6,
   "id": "7997bd25-896b-4a10-9231-1157ff093f57",
   "metadata": {},
   "outputs": [],
   "source": [
    "# %%\n",
    "\n",
    "def set_get_letter(input: str) -> str:\n",
    "    if len(input) > 1:\n",
    "        raise TypeError(\"Please provide a single letter as input.\")\n",
    "\n",
    "    return input"
   ]
  },
  {
   "cell_type": "code",
   "execution_count": 7,
   "id": "7f7f9c2e-102f-46ee-aed2-cf98a0fba9bc",
   "metadata": {},
   "outputs": [],
   "source": [
    "# %%\n",
    "\n",
    "def main():\n",
    "    print(\"Welcome User!\")\n",
    "\n",
    "    parser = argparse.ArgumentParser(prog=\"problemA\", description=\"Problem A\")\n",
    "    parser.add_argument(\"message\", default=None, nargs=\"?\")\n",
    "    parser.add_argument(\"letter\", default=None, nargs=\"?\", type=set_get_letter)\n",
    "    parser.add_argument(\"--match-case\", \"-c\", action=\"store_true\")\n",
    "    args, unknown = parser.parse_known_args([\"--f\"])\n",
    "\n",
    "    if not args.message:\n",
    "        args.message = input(\"Please enter a message: \")\n",
    "    if not args.letter:\n",
    "        args.letter = set_get_letter(input(\"Please enter a letter to search: \"))\n",
    "    if not args.match_case:\n",
    "        match_case = input(\"Match case? [Y/N]: \")\n",
    "        if match_case.lower() not in [\"y\", \"n\"]:\n",
    "            raise TypeError(\"Invalid value for match_case. Please enter 'Y/N'\")\n",
    "        if match_case.lower() == \"y\":\n",
    "            args.match_case = True\n",
    "\n",
    "    if not args.match_case:\n",
    "        message: str = args.message.lower()  # type: ignore\n",
    "        letter: str = args.letter.lower()  # type: ignore\n",
    "    else:\n",
    "        message: str = args.message  # type: ignore\n",
    "        letter: str = args.letter  # type: ignore\n",
    "\n",
    "    print(f\"Message: {args.message}\")\n",
    "    print(f\"Letter: {args.letter}\")\n",
    "    print(f\"Match Case: {args.match_case}\")\n",
    "\n",
    "    count = message.count(letter)\n",
    "    print(f\"Count: {count}\")\n",
    "\n",
    "    percentage = count / len(message)\n",
    "    print(f\"Percentage: {percentage:.2%}\")"
   ]
  },
  {
   "cell_type": "code",
   "execution_count": 8,
   "id": "b2cfa71d-40db-4788-811c-397291345837",
   "metadata": {},
   "outputs": [
    {
     "name": "stdout",
     "output_type": "stream",
     "text": [
      "Welcome User!\n",
      "Message: My name is Vandit Goel. My MavID is 9999999.\n",
      "Letter: M\n",
      "Match Case: False\n",
      "Count: 4\n",
      "Percentage: 9.09%\n"
     ]
    }
   ],
   "source": [
    "# %%\n",
    "\n",
    "if __name__ == \"__main__\":\n",
    "    main()"
   ]
  }
 ],
 "metadata": {
  "kernelspec": {
   "display_name": "base",
   "language": "python",
   "name": "python3"
  },
  "language_info": {
   "codemirror_mode": {
    "name": "ipython",
    "version": 3
   },
   "file_extension": ".py",
   "mimetype": "text/x-python",
   "name": "python",
   "nbconvert_exporter": "python",
   "pygments_lexer": "ipython3",
   "version": "3.12.2"
  }
 },
 "nbformat": 4,
 "nbformat_minor": 2
}
