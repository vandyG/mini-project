{
 "cells": [
  {
   "cell_type": "markdown",
   "id": "1a149758-a803-48ae-9a69-9f19efa84476",
   "metadata": {},
   "source": [
    "# String /input statement /print out\n",
    "1. Print a welcome message to the user.\n",
    "2. Take a string (message) and a letter from the user.\n",
    "3. Count how many times this letter occurred.\n",
    "4. Calculate the percentage of the letter in the message.\n",
    "5. Print the outputs to the user.\n"
   ]
  },
  {
   "cell_type": "code",
   "execution_count": 5,
   "id": "d65d7dc3-2b91-473b-b228-701943d00da8",
   "metadata": {},
   "outputs": [],
   "source": [
    "# %%\n",
    "\n",
    "import argparse\n",
    "import sys"
   ]
  },
  {
   "cell_type": "code",
   "execution_count": 6,
   "id": "a894be27-58b4-409e-ad9a-a94f99fd3149",
   "metadata": {},
   "outputs": [],
   "source": [
    "# %%\n",
    "\n",
    "def set_get_letter(input: str) -> str:\n",
    "    if len(input) > 1:\n",
    "        raise TypeError(\"Please provide a single letter as input.\")\n",
    "\n",
    "    return input"
   ]
  },
  {
   "cell_type": "code",
   "execution_count": 7,
   "id": "bc6ccd92-3f3c-4918-a202-ea1c4a818ee5",
   "metadata": {},
   "outputs": [],
   "source": [
    "# %%\n",
    "\n",
    "def main():\n",
    "\n",
    "    print(sys.argv)\n",
    "    print(\"Welcome User!\")\n",
    "\n",
    "    parser = argparse.ArgumentParser(prog=\"problemA\", description=\"Problem A\")\n",
    "    parser.add_argument(\"message\", default=None, nargs=\"?\")\n",
    "    parser.add_argument(\"letter\", default=None, nargs=\"?\", type=set_get_letter)\n",
    "    args,unknown = parser.parse_known_args([\"--f\"])\n",
    "\n",
    "    if not args.message:\n",
    "        args.message = input(\"Please enter a message:\")\n",
    "    if not args.letter:\n",
    "        args.letter = set_get_letter(input(\"Please enter a letter to search:\"))\n",
    "    \n",
    "\n",
    "    message: str = args.message.lower()  # type: ignore\n",
    "    letter: str = args.letter.lower()  # type: ignore\n",
    "    \n",
    "    print(f\"Message: {args.message}\")\n",
    "    print(f\"Letter: {args.letter}\")\n",
    "\n",
    "    count = message.count(letter)\n",
    "    print(f\"Count: {count}\")\n",
    "\n",
    "    percentage = count / len(message)\n",
    "    print(f\"Percentage: {percentage:.2%}\")"
   ]
  },
  {
   "cell_type": "code",
   "execution_count": 8,
   "id": "fb6d54b8-e5f8-40a6-ab6d-b10518de1049",
   "metadata": {},
   "outputs": [
    {
     "name": "stdout",
     "output_type": "stream",
     "text": [
      "['/home/vandy/.local/lib/python3.12/site-packages/ipykernel_launcher.py', '--f=/home/vandy/.local/share/jupyter/runtime/kernel-v2-109670qXMzEvQr0zfx.json']\n",
      "Welcome User!\n",
      "Message: My name is Vandit Goel. My student ID is 1002245699.\n",
      "Letter: D\n",
      "Count: 3\n",
      "Percentage: 5.77%\n"
     ]
    }
   ],
   "source": [
    "# %%\n",
    "\n",
    "if __name__ == \"__main__\":\n",
    "    main()"
   ]
  }
 ],
 "metadata": {
  "kernelspec": {
   "display_name": "base",
   "language": "python",
   "name": "python3"
  },
  "language_info": {
   "codemirror_mode": {
    "name": "ipython",
    "version": 3
   },
   "file_extension": ".py",
   "mimetype": "text/x-python",
   "name": "python",
   "nbconvert_exporter": "python",
   "pygments_lexer": "ipython3",
   "version": "3.12.2"
  }
 },
 "nbformat": 4,
 "nbformat_minor": 2
}
