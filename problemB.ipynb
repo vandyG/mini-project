{
 "cells": [
  {
   "cell_type": "markdown",
   "id": "c8b288d0-b858-46b0-b32d-19c56095e8bd",
   "metadata": {},
   "source": [
    "snowball is one of the most famous poems in literature. It says.\n",
    "\n",
    "I made myself a snowball.\n",
    "As perfect as could be.\n",
    "I thought I'd keep it as a pet.\n",
    "And let it sleep with me.\n",
    "I made it some pajamas.\n",
    "And a pillow for its head.\n",
    "Then last night it ran away,\n",
    "But first it wet the bed.\n",
    "\n",
    "1. How many the word it does the poem have? --> Store the output in a variable called\n",
    "it_count (check the different scenarios)\n",
    "2. How many characters in the poem, including the spaces and punctuations? --> Store the\n",
    "output in a variable called len_poem\n",
    "3. Where is the first occurrence for the word it? --> Store the output in a variable called\n",
    "it_first (check the different scenarios)\n",
    "4. Where is the last occurrence for the word I? --> Store the output in a variable called\n",
    "I_last (check the different scenarios)"
   ]
  },
  {
   "cell_type": "code",
   "execution_count": 1,
   "id": "e38110c1-c69a-4fb0-8eaf-2dcb769cb880",
   "metadata": {},
   "outputs": [],
   "source": [
    "# %%\n",
    "\n",
    "import random\n",
    "import re\n",
    "from textwrap import dedent\n",
    "from typing import Dict, Generator, List\n",
    "\n",
    "from rich import print"
   ]
  },
  {
   "cell_type": "code",
   "execution_count": 2,
   "id": "998baea5-a86c-4d42-8642-ab7b24e31f69",
   "metadata": {},
   "outputs": [],
   "source": [
    "# %%\n",
    "\n",
    "def count_stats(search: List[str], string: str) -> Dict[str, List[re.Match]]:\n",
    "    \"\"\"Find all word/substring matches for each search term in the input string.\n",
    "\n",
    "    Args:\n",
    "        search (List[str]): List of items to search.\n",
    "        string (str): The string to search in.\n",
    "\n",
    "    Returns:\n",
    "        Dict[str, List]: List of Match objects for each search term.\n",
    "    \"\"\"\n",
    "    matches = {}\n",
    "\n",
    "    for term in search:\n",
    "        pattern = re.compile(r\"(\\b\" + term + r\"\\b)|(\" + term + r\")\", flags=re.I)\n",
    "        curr_matches = list(pattern.finditer(string))\n",
    "\n",
    "        matches[term] = curr_matches\n",
    "\n",
    "    return matches"
   ]
  },
  {
   "cell_type": "code",
   "execution_count": 3,
   "id": "cdaeb652-a6e0-4bea-8195-d2556bf9bcb7",
   "metadata": {},
   "outputs": [],
   "source": [
    "# %%\n",
    "\n",
    "def pretty_print(search: List[str], string: str) -> Generator:\n",
    "    \"\"\"Highlight the matched terms in the string.\n",
    "\n",
    "    Args:\n",
    "        search (List[str]): List of search terms.\n",
    "        string (str): Input string.\n",
    "\n",
    "    Yields:\n",
    "        Generator: Output string with the search term highlighted.\n",
    "    \"\"\"\n",
    "    colors = [\"red\", \"green\", \"blue\", \"yellow\", \"magenta\", \"cyan\"]\n",
    "\n",
    "    for term in search:\n",
    "        input = string\n",
    "        substring_pattern = re.compile(term, re.I)\n",
    "        color = random.choice(colors)\n",
    "\n",
    "        input = re.sub(\n",
    "            substring_pattern,\n",
    "            lambda match: f\"[bold {color}]{match.group(0)}[/bold {color}]\",  # noqa: B023\n",
    "            input,\n",
    "        )\n",
    "\n",
    "        yield input"
   ]
  },
  {
   "cell_type": "code",
   "execution_count": 4,
   "id": "eb1468f6-29e3-46b7-905e-16dcf1f7efc0",
   "metadata": {},
   "outputs": [],
   "source": [
    "# %%\n",
    "\n",
    "def main():\n",
    "    \"\"\"Main funciton.\"\"\"\n",
    "    SNOWBALL = dedent(\"\"\"\n",
    "        I made myself a snowball.\n",
    "        As perfect as could be.\n",
    "        I thought I'd keep it as a pet.\n",
    "        And let it sleep with me.\n",
    "        I made it some pajamas.\n",
    "        And a pillow for its head.\n",
    "        Then last night it ran away,\n",
    "        But first it wet the bed.\n",
    "    \"\"\")\n",
    "\n",
    "    search_terms = [\"it\", \"i\"]\n",
    "\n",
    "    matches = count_stats(search_terms, SNOWBALL)\n",
    "    print_gen = pretty_print(search_terms, SNOWBALL)\n",
    "\n",
    "    for match_term, match_list in matches.items():\n",
    "        just_words = [match for match in match_list if match.group(1)]\n",
    "        just_non_words = [match for match in match_list if not match.group(1)]\n",
    "        count = len(match_list)\n",
    "        word_count = len(just_words)\n",
    "\n",
    "        def min_max(match):\n",
    "            return match.start()\n",
    "\n",
    "        first_substring = min(match_list, key=min_max)\n",
    "        first_word = min(just_words, key=min_max)\n",
    "        first_non_word = min(just_non_words, key=min_max)\n",
    "\n",
    "        last_substring = max(match_list, key=min_max)\n",
    "        last_word = max(just_words, key=min_max)\n",
    "        last_non_word = max(just_non_words, key=min_max)\n",
    "\n",
    "        print(f\"Total [bold]'{match_term}'[/bold] substrings: {count}\")\n",
    "        print(f\"Total [bold]'{match_term}'[/bold] words: {word_count}\")\n",
    "        print(f\"First [bold]'{match_term}'[/bold] substrings: {first_substring.span()}\")\n",
    "        print(f\"First [bold]'{match_term}'[/bold] word: {first_word.span()}\")\n",
    "        print(f\"First [bold]'{match_term}'[/bold] non-word substring: {first_non_word.span()}\")\n",
    "        print(f\"Last [bold]'{match_term}'[/bold] substrings: {last_substring.span()}\")\n",
    "        print(f\"Last [bold]'{match_term}'[/bold] word: {last_word.span()}\")\n",
    "        print(f\"Last [bold]'{match_term}'[/bold] non-word substring: {last_non_word.span()}\")\n",
    "\n",
    "        print(next(print_gen))\n",
    "        print(\"---\")\n",
    "\n",
    "    len_poem = len(SNOWBALL) - SNOWBALL.count(\"\\n\")\n",
    "\n",
    "    print(f\"Number of characters in poem: {len_poem}\")\n",
    "    print(f\"Number of characters in poem (including line endings '\\\\n'): {len(SNOWBALL)}\")"
   ]
  },
  {
   "cell_type": "code",
   "execution_count": 5,
   "id": "2076478e-30ea-4851-a091-c92d40c55660",
   "metadata": {},
   "outputs": [
    {
     "data": {
      "text/html": [
       "<pre style=\"white-space:pre;overflow-x:auto;line-height:normal;font-family:Menlo,'DejaVu Sans Mono',consolas,'Courier New',monospace\">Total <span style=\"color: #008000; text-decoration-color: #008000; font-weight: bold\">'it'</span> substrings: <span style=\"color: #008080; text-decoration-color: #008080; font-weight: bold\">7</span>\n",
       "</pre>\n"
      ],
      "text/plain": [
       "Total \u001b[1;32m'it'\u001b[0m substrings: \u001b[1;36m7\u001b[0m\n"
      ]
     },
     "metadata": {},
     "output_type": "display_data"
    },
    {
     "data": {
      "text/html": [
       "<pre style=\"white-space:pre;overflow-x:auto;line-height:normal;font-family:Menlo,'DejaVu Sans Mono',consolas,'Courier New',monospace\">Total <span style=\"color: #008000; text-decoration-color: #008000; font-weight: bold\">'it'</span> words: <span style=\"color: #008080; text-decoration-color: #008080; font-weight: bold\">5</span>\n",
       "</pre>\n"
      ],
      "text/plain": [
       "Total \u001b[1;32m'it'\u001b[0m words: \u001b[1;36m5\u001b[0m\n"
      ]
     },
     "metadata": {},
     "output_type": "display_data"
    },
    {
     "data": {
      "text/html": [
       "<pre style=\"white-space:pre;overflow-x:auto;line-height:normal;font-family:Menlo,'DejaVu Sans Mono',consolas,'Courier New',monospace\">First <span style=\"color: #008000; text-decoration-color: #008000; font-weight: bold\">'it'</span> substrings: <span style=\"font-weight: bold\">(</span><span style=\"color: #008080; text-decoration-color: #008080; font-weight: bold\">70</span>, <span style=\"color: #008080; text-decoration-color: #008080; font-weight: bold\">72</span><span style=\"font-weight: bold\">)</span>\n",
       "</pre>\n"
      ],
      "text/plain": [
       "First \u001b[1;32m'it'\u001b[0m substrings: \u001b[1m(\u001b[0m\u001b[1;36m70\u001b[0m, \u001b[1;36m72\u001b[0m\u001b[1m)\u001b[0m\n"
      ]
     },
     "metadata": {},
     "output_type": "display_data"
    },
    {
     "data": {
      "text/html": [
       "<pre style=\"white-space:pre;overflow-x:auto;line-height:normal;font-family:Menlo,'DejaVu Sans Mono',consolas,'Courier New',monospace\">First <span style=\"color: #008000; text-decoration-color: #008000; font-weight: bold\">'it'</span> word: <span style=\"font-weight: bold\">(</span><span style=\"color: #008080; text-decoration-color: #008080; font-weight: bold\">70</span>, <span style=\"color: #008080; text-decoration-color: #008080; font-weight: bold\">72</span><span style=\"font-weight: bold\">)</span>\n",
       "</pre>\n"
      ],
      "text/plain": [
       "First \u001b[1;32m'it'\u001b[0m word: \u001b[1m(\u001b[0m\u001b[1;36m70\u001b[0m, \u001b[1;36m72\u001b[0m\u001b[1m)\u001b[0m\n"
      ]
     },
     "metadata": {},
     "output_type": "display_data"
    },
    {
     "data": {
      "text/html": [
       "<pre style=\"white-space:pre;overflow-x:auto;line-height:normal;font-family:Menlo,'DejaVu Sans Mono',consolas,'Courier New',monospace\">First <span style=\"color: #008000; text-decoration-color: #008000; font-weight: bold\">'it'</span> non-word substring: <span style=\"font-weight: bold\">(</span><span style=\"color: #008080; text-decoration-color: #008080; font-weight: bold\">101</span>, <span style=\"color: #008080; text-decoration-color: #008080; font-weight: bold\">103</span><span style=\"font-weight: bold\">)</span>\n",
       "</pre>\n"
      ],
      "text/plain": [
       "First \u001b[1;32m'it'\u001b[0m non-word substring: \u001b[1m(\u001b[0m\u001b[1;36m101\u001b[0m, \u001b[1;36m103\u001b[0m\u001b[1m)\u001b[0m\n"
      ]
     },
     "metadata": {},
     "output_type": "display_data"
    },
    {
     "data": {
      "text/html": [
       "<pre style=\"white-space:pre;overflow-x:auto;line-height:normal;font-family:Menlo,'DejaVu Sans Mono',consolas,'Courier New',monospace\">Last <span style=\"color: #008000; text-decoration-color: #008000; font-weight: bold\">'it'</span> substrings: <span style=\"font-weight: bold\">(</span><span style=\"color: #008080; text-decoration-color: #008080; font-weight: bold\">199</span>, <span style=\"color: #008080; text-decoration-color: #008080; font-weight: bold\">201</span><span style=\"font-weight: bold\">)</span>\n",
       "</pre>\n"
      ],
      "text/plain": [
       "Last \u001b[1;32m'it'\u001b[0m substrings: \u001b[1m(\u001b[0m\u001b[1;36m199\u001b[0m, \u001b[1;36m201\u001b[0m\u001b[1m)\u001b[0m\n"
      ]
     },
     "metadata": {},
     "output_type": "display_data"
    },
    {
     "data": {
      "text/html": [
       "<pre style=\"white-space:pre;overflow-x:auto;line-height:normal;font-family:Menlo,'DejaVu Sans Mono',consolas,'Courier New',monospace\">Last <span style=\"color: #008000; text-decoration-color: #008000; font-weight: bold\">'it'</span> word: <span style=\"font-weight: bold\">(</span><span style=\"color: #008080; text-decoration-color: #008080; font-weight: bold\">199</span>, <span style=\"color: #008080; text-decoration-color: #008080; font-weight: bold\">201</span><span style=\"font-weight: bold\">)</span>\n",
       "</pre>\n"
      ],
      "text/plain": [
       "Last \u001b[1;32m'it'\u001b[0m word: \u001b[1m(\u001b[0m\u001b[1;36m199\u001b[0m, \u001b[1;36m201\u001b[0m\u001b[1m)\u001b[0m\n"
      ]
     },
     "metadata": {},
     "output_type": "display_data"
    },
    {
     "data": {
      "text/html": [
       "<pre style=\"white-space:pre;overflow-x:auto;line-height:normal;font-family:Menlo,'DejaVu Sans Mono',consolas,'Courier New',monospace\">Last <span style=\"color: #008000; text-decoration-color: #008000; font-weight: bold\">'it'</span> non-word substring: <span style=\"font-weight: bold\">(</span><span style=\"color: #008080; text-decoration-color: #008080; font-weight: bold\">150</span>, <span style=\"color: #008080; text-decoration-color: #008080; font-weight: bold\">152</span><span style=\"font-weight: bold\">)</span>\n",
       "</pre>\n"
      ],
      "text/plain": [
       "Last \u001b[1;32m'it'\u001b[0m non-word substring: \u001b[1m(\u001b[0m\u001b[1;36m150\u001b[0m, \u001b[1;36m152\u001b[0m\u001b[1m)\u001b[0m\n"
      ]
     },
     "metadata": {},
     "output_type": "display_data"
    },
    {
     "data": {
      "text/html": [
       "<pre style=\"white-space:pre;overflow-x:auto;line-height:normal;font-family:Menlo,'DejaVu Sans Mono',consolas,'Courier New',monospace\">\n",
       "I made myself a snowball.\n",
       "As perfect as could be.\n",
       "I thought I'd keep <span style=\"color: #008000; text-decoration-color: #008000; font-weight: bold\">it</span> as a pet.\n",
       "And let <span style=\"color: #008000; text-decoration-color: #008000; font-weight: bold\">it</span> sleep w<span style=\"color: #008000; text-decoration-color: #008000; font-weight: bold\">it</span>h me.\n",
       "I made <span style=\"color: #008000; text-decoration-color: #008000; font-weight: bold\">it</span> some pajamas.\n",
       "And a pillow for <span style=\"color: #008000; text-decoration-color: #008000; font-weight: bold\">it</span>s head.\n",
       "Then last night <span style=\"color: #008000; text-decoration-color: #008000; font-weight: bold\">it</span> ran away,\n",
       "But first <span style=\"color: #008000; text-decoration-color: #008000; font-weight: bold\">it</span> wet the bed.\n",
       "\n",
       "</pre>\n"
      ],
      "text/plain": [
       "\n",
       "I made myself a snowball.\n",
       "As perfect as could be.\n",
       "I thought I'd keep \u001b[1;32mit\u001b[0m as a pet.\n",
       "And let \u001b[1;32mit\u001b[0m sleep w\u001b[1;32mit\u001b[0mh me.\n",
       "I made \u001b[1;32mit\u001b[0m some pajamas.\n",
       "And a pillow for \u001b[1;32mit\u001b[0ms head.\n",
       "Then last night \u001b[1;32mit\u001b[0m ran away,\n",
       "But first \u001b[1;32mit\u001b[0m wet the bed.\n",
       "\n"
      ]
     },
     "metadata": {},
     "output_type": "display_data"
    },
    {
     "data": {
      "text/html": [
       "<pre style=\"white-space:pre;overflow-x:auto;line-height:normal;font-family:Menlo,'DejaVu Sans Mono',consolas,'Courier New',monospace\">---\n",
       "</pre>\n"
      ],
      "text/plain": [
       "---\n"
      ]
     },
     "metadata": {},
     "output_type": "display_data"
    },
    {
     "data": {
      "text/html": [
       "<pre style=\"white-space:pre;overflow-x:auto;line-height:normal;font-family:Menlo,'DejaVu Sans Mono',consolas,'Courier New',monospace\">Total <span style=\"color: #008000; text-decoration-color: #008000; font-weight: bold\">'i'</span> substrings: <span style=\"color: #008080; text-decoration-color: #008080; font-weight: bold\">14</span>\n",
       "</pre>\n"
      ],
      "text/plain": [
       "Total \u001b[1;32m'i'\u001b[0m substrings: \u001b[1;36m14\u001b[0m\n"
      ]
     },
     "metadata": {},
     "output_type": "display_data"
    },
    {
     "data": {
      "text/html": [
       "<pre style=\"white-space:pre;overflow-x:auto;line-height:normal;font-family:Menlo,'DejaVu Sans Mono',consolas,'Courier New',monospace\">Total <span style=\"color: #008000; text-decoration-color: #008000; font-weight: bold\">'i'</span> words: <span style=\"color: #008080; text-decoration-color: #008080; font-weight: bold\">4</span>\n",
       "</pre>\n"
      ],
      "text/plain": [
       "Total \u001b[1;32m'i'\u001b[0m words: \u001b[1;36m4\u001b[0m\n"
      ]
     },
     "metadata": {},
     "output_type": "display_data"
    },
    {
     "data": {
      "text/html": [
       "<pre style=\"white-space:pre;overflow-x:auto;line-height:normal;font-family:Menlo,'DejaVu Sans Mono',consolas,'Courier New',monospace\">First <span style=\"color: #008000; text-decoration-color: #008000; font-weight: bold\">'i'</span> substrings: <span style=\"font-weight: bold\">(</span><span style=\"color: #008080; text-decoration-color: #008080; font-weight: bold\">1</span>, <span style=\"color: #008080; text-decoration-color: #008080; font-weight: bold\">2</span><span style=\"font-weight: bold\">)</span>\n",
       "</pre>\n"
      ],
      "text/plain": [
       "First \u001b[1;32m'i'\u001b[0m substrings: \u001b[1m(\u001b[0m\u001b[1;36m1\u001b[0m, \u001b[1;36m2\u001b[0m\u001b[1m)\u001b[0m\n"
      ]
     },
     "metadata": {},
     "output_type": "display_data"
    },
    {
     "data": {
      "text/html": [
       "<pre style=\"white-space:pre;overflow-x:auto;line-height:normal;font-family:Menlo,'DejaVu Sans Mono',consolas,'Courier New',monospace\">First <span style=\"color: #008000; text-decoration-color: #008000; font-weight: bold\">'i'</span> word: <span style=\"font-weight: bold\">(</span><span style=\"color: #008080; text-decoration-color: #008080; font-weight: bold\">1</span>, <span style=\"color: #008080; text-decoration-color: #008080; font-weight: bold\">2</span><span style=\"font-weight: bold\">)</span>\n",
       "</pre>\n"
      ],
      "text/plain": [
       "First \u001b[1;32m'i'\u001b[0m word: \u001b[1m(\u001b[0m\u001b[1;36m1\u001b[0m, \u001b[1;36m2\u001b[0m\u001b[1m)\u001b[0m\n"
      ]
     },
     "metadata": {},
     "output_type": "display_data"
    },
    {
     "data": {
      "text/html": [
       "<pre style=\"white-space:pre;overflow-x:auto;line-height:normal;font-family:Menlo,'DejaVu Sans Mono',consolas,'Courier New',monospace\">First <span style=\"color: #008000; text-decoration-color: #008000; font-weight: bold\">'i'</span> non-word substring: <span style=\"font-weight: bold\">(</span><span style=\"color: #008080; text-decoration-color: #008080; font-weight: bold\">70</span>, <span style=\"color: #008080; text-decoration-color: #008080; font-weight: bold\">71</span><span style=\"font-weight: bold\">)</span>\n",
       "</pre>\n"
      ],
      "text/plain": [
       "First \u001b[1;32m'i'\u001b[0m non-word substring: \u001b[1m(\u001b[0m\u001b[1;36m70\u001b[0m, \u001b[1;36m71\u001b[0m\u001b[1m)\u001b[0m\n"
      ]
     },
     "metadata": {},
     "output_type": "display_data"
    },
    {
     "data": {
      "text/html": [
       "<pre style=\"white-space:pre;overflow-x:auto;line-height:normal;font-family:Menlo,'DejaVu Sans Mono',consolas,'Courier New',monospace\">Last <span style=\"color: #008000; text-decoration-color: #008000; font-weight: bold\">'i'</span> substrings: <span style=\"font-weight: bold\">(</span><span style=\"color: #008080; text-decoration-color: #008080; font-weight: bold\">199</span>, <span style=\"color: #008080; text-decoration-color: #008080; font-weight: bold\">200</span><span style=\"font-weight: bold\">)</span>\n",
       "</pre>\n"
      ],
      "text/plain": [
       "Last \u001b[1;32m'i'\u001b[0m substrings: \u001b[1m(\u001b[0m\u001b[1;36m199\u001b[0m, \u001b[1;36m200\u001b[0m\u001b[1m)\u001b[0m\n"
      ]
     },
     "metadata": {},
     "output_type": "display_data"
    },
    {
     "data": {
      "text/html": [
       "<pre style=\"white-space:pre;overflow-x:auto;line-height:normal;font-family:Menlo,'DejaVu Sans Mono',consolas,'Courier New',monospace\">Last <span style=\"color: #008000; text-decoration-color: #008000; font-weight: bold\">'i'</span> word: <span style=\"font-weight: bold\">(</span><span style=\"color: #008080; text-decoration-color: #008080; font-weight: bold\">109</span>, <span style=\"color: #008080; text-decoration-color: #008080; font-weight: bold\">110</span><span style=\"font-weight: bold\">)</span>\n",
       "</pre>\n"
      ],
      "text/plain": [
       "Last \u001b[1;32m'i'\u001b[0m word: \u001b[1m(\u001b[0m\u001b[1;36m109\u001b[0m, \u001b[1;36m110\u001b[0m\u001b[1m)\u001b[0m\n"
      ]
     },
     "metadata": {},
     "output_type": "display_data"
    },
    {
     "data": {
      "text/html": [
       "<pre style=\"white-space:pre;overflow-x:auto;line-height:normal;font-family:Menlo,'DejaVu Sans Mono',consolas,'Courier New',monospace\">Last <span style=\"color: #008000; text-decoration-color: #008000; font-weight: bold\">'i'</span> non-word substring: <span style=\"font-weight: bold\">(</span><span style=\"color: #008080; text-decoration-color: #008080; font-weight: bold\">199</span>, <span style=\"color: #008080; text-decoration-color: #008080; font-weight: bold\">200</span><span style=\"font-weight: bold\">)</span>\n",
       "</pre>\n"
      ],
      "text/plain": [
       "Last \u001b[1;32m'i'\u001b[0m non-word substring: \u001b[1m(\u001b[0m\u001b[1;36m199\u001b[0m, \u001b[1;36m200\u001b[0m\u001b[1m)\u001b[0m\n"
      ]
     },
     "metadata": {},
     "output_type": "display_data"
    },
    {
     "data": {
      "text/html": [
       "<pre style=\"white-space:pre;overflow-x:auto;line-height:normal;font-family:Menlo,'DejaVu Sans Mono',consolas,'Courier New',monospace\">\n",
       "<span style=\"color: #008080; text-decoration-color: #008080; font-weight: bold\">I</span> made myself a snowball.\n",
       "As perfect as could be.\n",
       "<span style=\"color: #008080; text-decoration-color: #008080; font-weight: bold\">I</span> thought <span style=\"color: #008080; text-decoration-color: #008080; font-weight: bold\">I</span>'d keep <span style=\"color: #008080; text-decoration-color: #008080; font-weight: bold\">i</span>t as a pet.\n",
       "And let <span style=\"color: #008080; text-decoration-color: #008080; font-weight: bold\">i</span>t sleep w<span style=\"color: #008080; text-decoration-color: #008080; font-weight: bold\">i</span>th me.\n",
       "<span style=\"color: #008080; text-decoration-color: #008080; font-weight: bold\">I</span> made <span style=\"color: #008080; text-decoration-color: #008080; font-weight: bold\">i</span>t some pajamas.\n",
       "And a p<span style=\"color: #008080; text-decoration-color: #008080; font-weight: bold\">i</span>llow for <span style=\"color: #008080; text-decoration-color: #008080; font-weight: bold\">i</span>ts head.\n",
       "Then last n<span style=\"color: #008080; text-decoration-color: #008080; font-weight: bold\">i</span>ght <span style=\"color: #008080; text-decoration-color: #008080; font-weight: bold\">i</span>t ran away,\n",
       "But f<span style=\"color: #008080; text-decoration-color: #008080; font-weight: bold\">i</span>rst <span style=\"color: #008080; text-decoration-color: #008080; font-weight: bold\">i</span>t wet the bed.\n",
       "\n",
       "</pre>\n"
      ],
      "text/plain": [
       "\n",
       "\u001b[1;36mI\u001b[0m made myself a snowball.\n",
       "As perfect as could be.\n",
       "\u001b[1;36mI\u001b[0m thought \u001b[1;36mI\u001b[0m'd keep \u001b[1;36mi\u001b[0mt as a pet.\n",
       "And let \u001b[1;36mi\u001b[0mt sleep w\u001b[1;36mi\u001b[0mth me.\n",
       "\u001b[1;36mI\u001b[0m made \u001b[1;36mi\u001b[0mt some pajamas.\n",
       "And a p\u001b[1;36mi\u001b[0mllow for \u001b[1;36mi\u001b[0mts head.\n",
       "Then last n\u001b[1;36mi\u001b[0mght \u001b[1;36mi\u001b[0mt ran away,\n",
       "But f\u001b[1;36mi\u001b[0mrst \u001b[1;36mi\u001b[0mt wet the bed.\n",
       "\n"
      ]
     },
     "metadata": {},
     "output_type": "display_data"
    },
    {
     "data": {
      "text/html": [
       "<pre style=\"white-space:pre;overflow-x:auto;line-height:normal;font-family:Menlo,'DejaVu Sans Mono',consolas,'Courier New',monospace\">---\n",
       "</pre>\n"
      ],
      "text/plain": [
       "---\n"
      ]
     },
     "metadata": {},
     "output_type": "display_data"
    },
    {
     "data": {
      "text/html": [
       "<pre style=\"white-space:pre;overflow-x:auto;line-height:normal;font-family:Menlo,'DejaVu Sans Mono',consolas,'Courier New',monospace\">Number of characters in poem: <span style=\"color: #008080; text-decoration-color: #008080; font-weight: bold\">206</span>\n",
       "</pre>\n"
      ],
      "text/plain": [
       "Number of characters in poem: \u001b[1;36m206\u001b[0m\n"
      ]
     },
     "metadata": {},
     "output_type": "display_data"
    },
    {
     "data": {
      "text/html": [
       "<pre style=\"white-space:pre;overflow-x:auto;line-height:normal;font-family:Menlo,'DejaVu Sans Mono',consolas,'Courier New',monospace\">Number of characters in poem <span style=\"font-weight: bold\">(</span>including line endings <span style=\"color: #008000; text-decoration-color: #008000\">'\\n'</span><span style=\"font-weight: bold\">)</span>: <span style=\"color: #008080; text-decoration-color: #008080; font-weight: bold\">215</span>\n",
       "</pre>\n"
      ],
      "text/plain": [
       "Number of characters in poem \u001b[1m(\u001b[0mincluding line endings \u001b[32m'\\n'\u001b[0m\u001b[1m)\u001b[0m: \u001b[1;36m215\u001b[0m\n"
      ]
     },
     "metadata": {},
     "output_type": "display_data"
    }
   ],
   "source": [
    "# %%\n",
    "\n",
    "if __name__ == \"__main__\":\n",
    "    main()"
   ]
  }
 ],
 "metadata": {
  "kernelspec": {
   "display_name": "msprojects",
   "language": "python",
   "name": "python3"
  },
  "language_info": {
   "codemirror_mode": {
    "name": "ipython",
    "version": 3
   },
   "file_extension": ".py",
   "mimetype": "text/x-python",
   "name": "python",
   "nbconvert_exporter": "python",
   "pygments_lexer": "ipython3",
   "version": "3.12.2"
  }
 },
 "nbformat": 4,
 "nbformat_minor": 2
}
