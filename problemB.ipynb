{
 "cells": [
  {
   "cell_type": "markdown",
   "id": "ea735368-518e-4f9b-88c9-90b8a9aa0fc7",
   "metadata": {},
   "source": [
    "snowball is one of the most famous poems in literature. It says.\n",
    "\n",
    "I made myself a snowball.\n",
    "As perfect as could be.\n",
    "I thought I'd keep it as a pet.\n",
    "And let it sleep with me.\n",
    "I made it some pajamas.\n",
    "And a pillow for its head.\n",
    "Then last night it ran away,\n",
    "But first it wet the bed.\n",
    "\n",
    "1. How many the word it does the poem have? --> Store the output in a variable called\n",
    "it_count (check the different scenarios)\n",
    "2. How many characters in the poem, including the spaces and punctuations? --> Store the\n",
    "output in a variable called len_poem\n",
    "3. Where is the first occurrence for the word it? --> Store the output in a variable called\n",
    "it_first (check the different scenarios)\n",
    "4. Where is the last occurrence for the word I? --> Store the output in a variable called\n",
    "I_last (check the different scenarios)"
   ]
  },
  {
   "cell_type": "code",
   "execution_count": null,
   "id": "31bffa42-29b0-4ab7-bb9c-dea8948693a3",
   "metadata": {},
   "outputs": [],
   "source": [
    "# %%\n",
    "\n",
    "import random\n",
    "import re\n",
    "from textwrap import dedent\n",
    "from typing import Dict, Generator, List\n",
    "\n",
    "from rich import print"
   ]
  },
  {
   "cell_type": "code",
   "execution_count": null,
   "id": "4bd8965c-ace8-4170-a3be-91ed2f22698b",
   "metadata": {},
   "outputs": [],
   "source": [
    "# %%\n",
    "\n",
    "def count_stats(search: List[str], string: str) -> Dict[str, List[re.Match]]:\n",
    "    \"\"\"Find all word/substring matches for each search term in the input string.\n",
    "\n",
    "    Args:\n",
    "        search (List[str]): List of items to search.\n",
    "        string (str): The string to search in.\n",
    "\n",
    "    Returns:\n",
    "        Dict[str, List]: List of Match objects for each search term.\n",
    "    \"\"\"\n",
    "    matches = {}\n",
    "\n",
    "    for term in search:\n",
    "        pattern = re.compile(r\"(\\b\" + term + r\"\\b)|(\" + term + r\")\", flags=re.I)\n",
    "        curr_matches = list(pattern.finditer(string))\n",
    "\n",
    "        matches[term] = curr_matches\n",
    "\n",
    "    return matches"
   ]
  },
  {
   "cell_type": "code",
   "execution_count": null,
   "id": "0da548de-11af-4792-9517-3e331f967436",
   "metadata": {},
   "outputs": [],
   "source": [
    "# %%\n",
    "\n",
    "def pretty_print(search: List[str], string: str) -> Generator:\n",
    "    \"\"\"Highlight the matched terms in the string.\n",
    "\n",
    "    Args:\n",
    "        search (List[str]): List of search terms.\n",
    "        string (str): Input string.\n",
    "\n",
    "    Yields:\n",
    "        Generator: Output string with the search term highlighted.\n",
    "    \"\"\"\n",
    "    colors = [\"red\", \"green\", \"blue\", \"yellow\", \"magenta\", \"cyan\"]\n",
    "\n",
    "    for term in search:\n",
    "        input = string\n",
    "        substring_pattern = re.compile(term, re.I)\n",
    "        color = random.choice(colors)\n",
    "\n",
    "        input = re.sub(\n",
    "            substring_pattern,\n",
    "            lambda match: f\"[bold {color}]{match.group(0)}[/bold {color}]\",  # noqa: B023\n",
    "            input,\n",
    "        )\n",
    "\n",
    "        yield input"
   ]
  },
  {
   "cell_type": "code",
   "execution_count": null,
   "id": "8d01dc3b-d288-4706-ac3b-c6fb0367964c",
   "metadata": {},
   "outputs": [],
   "source": [
    "# %%\n",
    "\n",
    "def main():\n",
    "    \"\"\"Main funciton.\"\"\"\n",
    "    SNOWBALL = dedent(\"\"\"\n",
    "        I made myself a snowball.\n",
    "        As perfect as could be.\n",
    "        I thought I'd keep it as a pet.\n",
    "        And let it sleep with me.\n",
    "        I made it some pajamas.\n",
    "        And a pillow for its head.\n",
    "        Then last night it ran away,\n",
    "        But first it wet the bed.\n",
    "    \"\"\")\n",
    "\n",
    "    search_terms = [\"it\", \"i\"]\n",
    "\n",
    "    matches = count_stats(search_terms, SNOWBALL)\n",
    "\n",
    "    for match_term, match_list in matches.items():\n",
    "        just_words = [match for match in match_list if match.group(1)]\n",
    "        just_non_words = [match for match in match_list if not match.group(1)]\n",
    "        count = len(match_list)\n",
    "        word_count = len(just_words)\n",
    "\n",
    "        def min_func(match):\n",
    "            return match.start()\n",
    "\n",
    "        first_substring = min(match_list, key=min_func)\n",
    "        first_word = min(just_words, key=min_func)\n",
    "        first_non_word = min(just_non_words, key=min_func)\n",
    "\n",
    "        print(f\"Total [bold]'{match_term}'[/bold] substrings: {count}\")\n",
    "        print(f\"Total [bold]'{match_term}'[/bold] words: {word_count}\")\n",
    "        print(f\"First [bold]'{match_term}'[/bold] substrings: {first_substring.span()}\")\n",
    "        print(f\"First [bold]'{match_term}'[/bold] word: {first_word.span()}\")\n",
    "        print(f\"First [bold]'{match_term}'[/bold] non-word substring: {first_non_word.span()}\")\n",
    "        print(next(pretty_print(search_terms, SNOWBALL)))\n",
    "        print(\"---\")\n",
    "\n",
    "    pretty_print(search_terms, SNOWBALL)\n",
    "\n",
    "    len_poem = len(SNOWBALL) - SNOWBALL.count(\"\\n\")\n",
    "\n",
    "    print(f\"Number of characters in poem: {len_poem}\")"
   ]
  },
  {
   "cell_type": "code",
   "execution_count": null,
   "id": "e3742077-5a81-4af2-a75d-d73c897034e0",
   "metadata": {},
   "outputs": [
    {
     "data": {
      "text/html": [
       "<pre style=\"white-space:pre;overflow-x:auto;line-height:normal;font-family:Menlo,'DejaVu Sans Mono',consolas,'Courier New',monospace\">Total <span style=\"color: #008000; text-decoration-color: #008000; font-weight: bold\">'it'</span> substrings: <span style=\"color: #008080; text-decoration-color: #008080; font-weight: bold\">7</span>\n",
       "</pre>\n"
      ],
      "text/plain": [
       "Total \u001b[1;32m'it'\u001b[0m substrings: \u001b[1;36m7\u001b[0m\n"
      ]
     },
     "metadata": {},
     "output_type": "display_data"
    },
    {
     "data": {
      "text/html": [
       "<pre style=\"white-space:pre;overflow-x:auto;line-height:normal;font-family:Menlo,'DejaVu Sans Mono',consolas,'Courier New',monospace\">Total <span style=\"color: #008000; text-decoration-color: #008000; font-weight: bold\">'it'</span> words: <span style=\"color: #008080; text-decoration-color: #008080; font-weight: bold\">5</span>\n",
       "</pre>\n"
      ],
      "text/plain": [
       "Total \u001b[1;32m'it'\u001b[0m words: \u001b[1;36m5\u001b[0m\n"
      ]
     },
     "metadata": {},
     "output_type": "display_data"
    },
    {
     "data": {
      "text/html": [
       "<pre style=\"white-space:pre;overflow-x:auto;line-height:normal;font-family:Menlo,'DejaVu Sans Mono',consolas,'Courier New',monospace\">First <span style=\"color: #008000; text-decoration-color: #008000; font-weight: bold\">'it'</span> substrings: <span style=\"font-weight: bold\">(</span><span style=\"color: #008080; text-decoration-color: #008080; font-weight: bold\">70</span>, <span style=\"color: #008080; text-decoration-color: #008080; font-weight: bold\">72</span><span style=\"font-weight: bold\">)</span>\n",
       "</pre>\n"
      ],
      "text/plain": [
       "First \u001b[1;32m'it'\u001b[0m substrings: \u001b[1m(\u001b[0m\u001b[1;36m70\u001b[0m, \u001b[1;36m72\u001b[0m\u001b[1m)\u001b[0m\n"
      ]
     },
     "metadata": {},
     "output_type": "display_data"
    },
    {
     "data": {
      "text/html": [
       "<pre style=\"white-space:pre;overflow-x:auto;line-height:normal;font-family:Menlo,'DejaVu Sans Mono',consolas,'Courier New',monospace\">First <span style=\"color: #008000; text-decoration-color: #008000; font-weight: bold\">'it'</span> word: <span style=\"font-weight: bold\">(</span><span style=\"color: #008080; text-decoration-color: #008080; font-weight: bold\">70</span>, <span style=\"color: #008080; text-decoration-color: #008080; font-weight: bold\">72</span><span style=\"font-weight: bold\">)</span>\n",
       "</pre>\n"
      ],
      "text/plain": [
       "First \u001b[1;32m'it'\u001b[0m word: \u001b[1m(\u001b[0m\u001b[1;36m70\u001b[0m, \u001b[1;36m72\u001b[0m\u001b[1m)\u001b[0m\n"
      ]
     },
     "metadata": {},
     "output_type": "display_data"
    },
    {
     "data": {
      "text/html": [
       "<pre style=\"white-space:pre;overflow-x:auto;line-height:normal;font-family:Menlo,'DejaVu Sans Mono',consolas,'Courier New',monospace\">First <span style=\"color: #008000; text-decoration-color: #008000; font-weight: bold\">'it'</span> non-word substring: <span style=\"font-weight: bold\">(</span><span style=\"color: #008080; text-decoration-color: #008080; font-weight: bold\">101</span>, <span style=\"color: #008080; text-decoration-color: #008080; font-weight: bold\">103</span><span style=\"font-weight: bold\">)</span>\n",
       "</pre>\n"
      ],
      "text/plain": [
       "First \u001b[1;32m'it'\u001b[0m non-word substring: \u001b[1m(\u001b[0m\u001b[1;36m101\u001b[0m, \u001b[1;36m103\u001b[0m\u001b[1m)\u001b[0m\n"
      ]
     },
     "metadata": {},
     "output_type": "display_data"
    },
    {
     "data": {
      "text/html": [
       "<pre style=\"white-space:pre;overflow-x:auto;line-height:normal;font-family:Menlo,'DejaVu Sans Mono',consolas,'Courier New',monospace\">\n",
       "I made myself a snowball.\n",
       "As perfect as could be.\n",
       "I thought I'd keep <span style=\"color: #800000; text-decoration-color: #800000; font-weight: bold\">it</span> as a pet.\n",
       "And let <span style=\"color: #800000; text-decoration-color: #800000; font-weight: bold\">it</span> sleep w<span style=\"color: #800000; text-decoration-color: #800000; font-weight: bold\">it</span>h me.\n",
       "I made <span style=\"color: #800000; text-decoration-color: #800000; font-weight: bold\">it</span> some pajamas.\n",
       "And a pillow for <span style=\"color: #800000; text-decoration-color: #800000; font-weight: bold\">it</span>s head.\n",
       "Then last night <span style=\"color: #800000; text-decoration-color: #800000; font-weight: bold\">it</span> ran away,\n",
       "But first <span style=\"color: #800000; text-decoration-color: #800000; font-weight: bold\">it</span> wet the bed.\n",
       "\n",
       "</pre>\n"
      ],
      "text/plain": [
       "\n",
       "I made myself a snowball.\n",
       "As perfect as could be.\n",
       "I thought I'd keep \u001b[1;31mit\u001b[0m as a pet.\n",
       "And let \u001b[1;31mit\u001b[0m sleep w\u001b[1;31mit\u001b[0mh me.\n",
       "I made \u001b[1;31mit\u001b[0m some pajamas.\n",
       "And a pillow for \u001b[1;31mit\u001b[0ms head.\n",
       "Then last night \u001b[1;31mit\u001b[0m ran away,\n",
       "But first \u001b[1;31mit\u001b[0m wet the bed.\n",
       "\n"
      ]
     },
     "metadata": {},
     "output_type": "display_data"
    },
    {
     "data": {
      "text/html": [
       "<pre style=\"white-space:pre;overflow-x:auto;line-height:normal;font-family:Menlo,'DejaVu Sans Mono',consolas,'Courier New',monospace\">---\n",
       "</pre>\n"
      ],
      "text/plain": [
       "---\n"
      ]
     },
     "metadata": {},
     "output_type": "display_data"
    },
    {
     "data": {
      "text/html": [
       "<pre style=\"white-space:pre;overflow-x:auto;line-height:normal;font-family:Menlo,'DejaVu Sans Mono',consolas,'Courier New',monospace\">Total <span style=\"color: #008000; text-decoration-color: #008000; font-weight: bold\">'i'</span> substrings: <span style=\"color: #008080; text-decoration-color: #008080; font-weight: bold\">14</span>\n",
       "</pre>\n"
      ],
      "text/plain": [
       "Total \u001b[1;32m'i'\u001b[0m substrings: \u001b[1;36m14\u001b[0m\n"
      ]
     },
     "metadata": {},
     "output_type": "display_data"
    },
    {
     "data": {
      "text/html": [
       "<pre style=\"white-space:pre;overflow-x:auto;line-height:normal;font-family:Menlo,'DejaVu Sans Mono',consolas,'Courier New',monospace\">Total <span style=\"color: #008000; text-decoration-color: #008000; font-weight: bold\">'i'</span> words: <span style=\"color: #008080; text-decoration-color: #008080; font-weight: bold\">4</span>\n",
       "</pre>\n"
      ],
      "text/plain": [
       "Total \u001b[1;32m'i'\u001b[0m words: \u001b[1;36m4\u001b[0m\n"
      ]
     },
     "metadata": {},
     "output_type": "display_data"
    },
    {
     "data": {
      "text/html": [
       "<pre style=\"white-space:pre;overflow-x:auto;line-height:normal;font-family:Menlo,'DejaVu Sans Mono',consolas,'Courier New',monospace\">First <span style=\"color: #008000; text-decoration-color: #008000; font-weight: bold\">'i'</span> substrings: <span style=\"font-weight: bold\">(</span><span style=\"color: #008080; text-decoration-color: #008080; font-weight: bold\">1</span>, <span style=\"color: #008080; text-decoration-color: #008080; font-weight: bold\">2</span><span style=\"font-weight: bold\">)</span>\n",
       "</pre>\n"
      ],
      "text/plain": [
       "First \u001b[1;32m'i'\u001b[0m substrings: \u001b[1m(\u001b[0m\u001b[1;36m1\u001b[0m, \u001b[1;36m2\u001b[0m\u001b[1m)\u001b[0m\n"
      ]
     },
     "metadata": {},
     "output_type": "display_data"
    },
    {
     "data": {
      "text/html": [
       "<pre style=\"white-space:pre;overflow-x:auto;line-height:normal;font-family:Menlo,'DejaVu Sans Mono',consolas,'Courier New',monospace\">First <span style=\"color: #008000; text-decoration-color: #008000; font-weight: bold\">'i'</span> word: <span style=\"font-weight: bold\">(</span><span style=\"color: #008080; text-decoration-color: #008080; font-weight: bold\">1</span>, <span style=\"color: #008080; text-decoration-color: #008080; font-weight: bold\">2</span><span style=\"font-weight: bold\">)</span>\n",
       "</pre>\n"
      ],
      "text/plain": [
       "First \u001b[1;32m'i'\u001b[0m word: \u001b[1m(\u001b[0m\u001b[1;36m1\u001b[0m, \u001b[1;36m2\u001b[0m\u001b[1m)\u001b[0m\n"
      ]
     },
     "metadata": {},
     "output_type": "display_data"
    },
    {
     "data": {
      "text/html": [
       "<pre style=\"white-space:pre;overflow-x:auto;line-height:normal;font-family:Menlo,'DejaVu Sans Mono',consolas,'Courier New',monospace\">First <span style=\"color: #008000; text-decoration-color: #008000; font-weight: bold\">'i'</span> non-word substring: <span style=\"font-weight: bold\">(</span><span style=\"color: #008080; text-decoration-color: #008080; font-weight: bold\">70</span>, <span style=\"color: #008080; text-decoration-color: #008080; font-weight: bold\">71</span><span style=\"font-weight: bold\">)</span>\n",
       "</pre>\n"
      ],
      "text/plain": [
       "First \u001b[1;32m'i'\u001b[0m non-word substring: \u001b[1m(\u001b[0m\u001b[1;36m70\u001b[0m, \u001b[1;36m71\u001b[0m\u001b[1m)\u001b[0m\n"
      ]
     },
     "metadata": {},
     "output_type": "display_data"
    },
    {
     "data": {
      "text/html": [
       "<pre style=\"white-space:pre;overflow-x:auto;line-height:normal;font-family:Menlo,'DejaVu Sans Mono',consolas,'Courier New',monospace\">\n",
       "I made myself a snowball.\n",
       "As perfect as could be.\n",
       "I thought I'd keep <span style=\"color: #000080; text-decoration-color: #000080; font-weight: bold\">it</span> as a pet.\n",
       "And let <span style=\"color: #000080; text-decoration-color: #000080; font-weight: bold\">it</span> sleep w<span style=\"color: #000080; text-decoration-color: #000080; font-weight: bold\">it</span>h me.\n",
       "I made <span style=\"color: #000080; text-decoration-color: #000080; font-weight: bold\">it</span> some pajamas.\n",
       "And a pillow for <span style=\"color: #000080; text-decoration-color: #000080; font-weight: bold\">it</span>s head.\n",
       "Then last night <span style=\"color: #000080; text-decoration-color: #000080; font-weight: bold\">it</span> ran away,\n",
       "But first <span style=\"color: #000080; text-decoration-color: #000080; font-weight: bold\">it</span> wet the bed.\n",
       "\n",
       "</pre>\n"
      ],
      "text/plain": [
       "\n",
       "I made myself a snowball.\n",
       "As perfect as could be.\n",
       "I thought I'd keep \u001b[1;34mit\u001b[0m as a pet.\n",
       "And let \u001b[1;34mit\u001b[0m sleep w\u001b[1;34mit\u001b[0mh me.\n",
       "I made \u001b[1;34mit\u001b[0m some pajamas.\n",
       "And a pillow for \u001b[1;34mit\u001b[0ms head.\n",
       "Then last night \u001b[1;34mit\u001b[0m ran away,\n",
       "But first \u001b[1;34mit\u001b[0m wet the bed.\n",
       "\n"
      ]
     },
     "metadata": {},
     "output_type": "display_data"
    },
    {
     "data": {
      "text/html": [
       "<pre style=\"white-space:pre;overflow-x:auto;line-height:normal;font-family:Menlo,'DejaVu Sans Mono',consolas,'Courier New',monospace\">---\n",
       "</pre>\n"
      ],
      "text/plain": [
       "---\n"
      ]
     },
     "metadata": {},
     "output_type": "display_data"
    },
    {
     "data": {
      "text/html": [
       "<pre style=\"white-space:pre;overflow-x:auto;line-height:normal;font-family:Menlo,'DejaVu Sans Mono',consolas,'Courier New',monospace\">Number of characters in poem: <span style=\"color: #008080; text-decoration-color: #008080; font-weight: bold\">206</span>\n",
       "</pre>\n"
      ],
      "text/plain": [
       "Number of characters in poem: \u001b[1;36m206\u001b[0m\n"
      ]
     },
     "metadata": {},
     "output_type": "display_data"
    }
   ],
   "source": [
    "# %%\n",
    "\n",
    "if __name__ == \"__main__\":\n",
    "    main()"
   ]
  }
 ],
 "metadata": {
  "kernelspec": {
   "display_name": "msprojects",
   "language": "python",
   "name": "python3"
  },
  "language_info": {
   "codemirror_mode": {
    "name": "ipython",
    "version": 3
   },
   "file_extension": ".py",
   "mimetype": "text/x-python",
   "name": "python",
   "nbconvert_exporter": "python",
   "pygments_lexer": "ipython3",
   "version": "3.12.2"
  }
 },
 "nbformat": 4,
 "nbformat_minor": 2
}
